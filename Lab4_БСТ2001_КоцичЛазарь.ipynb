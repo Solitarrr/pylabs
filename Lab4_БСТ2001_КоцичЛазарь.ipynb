{
 "cells": [
  {
   "cell_type": "markdown",
   "id": "fifteen-sailing",
   "metadata": {},
   "source": [
    "# Лабораторная работа №4\n",
    "## Выполнил студент группы БСТ2001 Коцич Лазарь"
   ]
  },
  {
   "cell_type": "markdown",
   "id": "arctic-stocks",
   "metadata": {},
   "source": [
    "Реализовать следующие структуры данных:\n",
    "  \n",
    "● <b> Стек (stack): </b>  \n",
    "Операции для стека: \n",
    "<i> инициализация, проверка на пустоту, добавление нового элемента в начало, извлечение элемента из начала;  </i>  \n",
    "  \n",
    "● <b> Дек (двусторонняя очередь, deque):  </b>  \n",
    "Операции для дека: \n",
    "<i> инициализация, проверка на пустоту, добавление нового элемента в начало, добавление нового элемента в конец, извлечение элемента из начала, извлечение элемента из конца. </i>  \n",
    "  \n",
    "<i> Разработать программу обработки данных, содержащихся в заранее подготовленном txt-файле, в соответствии с заданиями, применив указанную в задании структуру данных. Результат работы программы вывести на экран и сохранить в отдельном txt-файле. </i>\n",
    "\n",
    "Также задания:\n",
    "1. Отсортировать строки файла, содержащие названия книг, в алфавитном порядке с использованием двух деков.\n",
    "2. Дек содержит последовательность символов для шифровки сообщений. Дан текстовый файл, содержащий зашифрованное сообщение. Пользуясь деком, расшифровать текст. Известно, что при шифровке каждый символ сообщения заменялся следующим за ним в деке по часовой стрелке через один.\n",
    "3. Даны три стержня и n дисков различного размера. Диски можно надевать на стержни, образуя из них башни. Перенести n дисков со стержня А на стержень С, сохранив их первоначальный порядок. При переносе дисков необходимо соблюдать следующие правила:\n",
    "- на каждом шаге со стержня на стержень переносить только один диск;\n",
    "- диск нельзя помещать на диск меньшего размера;\n",
    "- для промежуточного хранения можно использовать стержень В.\n",
    "Реализовать алгоритм, используя три стека вместо стержней А, В, С. Информация о дисках хранится в исходном файле.\n",
    "4. Дан текстовый файл с программой на алгоритмическом языке. За один просмотр файла проверить баланс круглых скобок в тексте, используя стек.\n",
    "5. Дан текстовый файл с программой на алгоритмическом языке. За один просмотр файла проверить баланс квадратных скобок в тексте, используя дек.\n",
    "6. Дан файл из символов. Используя стек, за один просмотр файла напечатать сначала все цифры, затем все буквы, и, наконец, все остальные символы, сохраняя исходный порядок в каждой группе символов.\n",
    "7. Дан файл из целых чисел. Используя дек, за один просмотр файла напечатать сначала все отрицательные числа, затем все положительные числа, сохраняя исходный порядок в каждой группе.\n",
    "8. Дан текстовый файл. Используя стек, сформировать новый текстовый файл, содержащий строки исходного файла, записанные в обратном порядке: первая строка становится последней, вторая – предпоследней и т.д."
   ]
  },
  {
   "cell_type": "code",
   "execution_count": 31,
   "id": "d4d4748f",
   "metadata": {},
   "outputs": [],
   "source": [
    "class LinkedNode:\n",
    "    def __init__(self, value=None):\n",
    "        self.value = value\n",
    "        self.right = None\n",
    "        self.left = None\n",
    "#Стек\n",
    "class Stack:\n",
    "    def __init__(self):    #инициализация\n",
    "        self.head = LinkedNode()\n",
    "        self.size = 0\n",
    "\n",
    "    def is_empty(self):    #is_empty - определить, пусто ли оно\n",
    "        return self.size == 0\n",
    "\n",
    "    def push(self, value):   #push - добавляет элемент в верхнюю часть стека\n",
    "        if self.size > 0:\n",
    "            node = LinkedNode(value)\n",
    "            node.right = self.head\n",
    "            self.head = node\n",
    "        else:\n",
    "            self.head.value = value\n",
    "        self.size += 1\n",
    "      \n",
    "    def pop(self):           #pop - удаляет элемент в верхней части стека\n",
    "        if self.is_empty():\n",
    "            return println(\"Стек пустой!\")\n",
    "        remove = self.head\n",
    "        if self.size > 1:\n",
    "            self.head = remove.right\n",
    "        self.size -= 1\n",
    "        return remove.value\n",
    "    \n",
    "    def peek(self):        #peek - возвращается к верхнему элементу стека\n",
    "        if self.is_empty():\n",
    "            return println(\"Стек пустой!\")\n",
    "        return self.head.value\n",
    "    \n",
    "    def __len__(self):     #возвращает количество элементов в стеке\n",
    "        return self.size\n",
    "\n",
    "    def reverse(self):    #реверс\n",
    "        current = self.head\n",
    "        prev = None\n",
    "        next = None\n",
    " \n",
    "        while current is not None:\n",
    "            next = current.right\n",
    "            current.right = prev\n",
    "            prev = current\n",
    "            current = next\n",
    "\n",
    "        self.head = prev\n",
    "#Дек     \n",
    "class Deque:\n",
    "    def __init__(self):         #инициализация\n",
    "        self.head = LinkedNode()\n",
    "        self.tail = self.head\n",
    "        self.size = 0\n",
    "    \n",
    "    def is_empty(self):         #is_empty - определить, пусто ли оно\n",
    "        return self.size == 0\n",
    "\n",
    "    def push_left(self, value): #добавляет к началу двухсторонней очереди  \n",
    "        if self.size > 0:\n",
    "            node = LinkedNode(value)\n",
    "            node.right = self.tail\n",
    "            self.tail.left = node\n",
    "            self.tail = node\n",
    "        else:\n",
    "            self.tail.value = value\n",
    "        self.size += 1\n",
    "\n",
    "    def push(self, value):     #добавляет к концу двухсторонней очереди \n",
    "        if self.size > 0:\n",
    "            node = LinkedNode(value)\n",
    "            node.left = self.head\n",
    "            self.head.right = node\n",
    "            self.head = node\n",
    "        else:\n",
    "            self.head.value = value\n",
    "        self.size += 1\n",
    "    \n",
    "    def pop_left(self):  #удаляет и возвращает элемент с левой стороны двусторонней очереди\n",
    "        if self.is_empty():\n",
    "            return println(\"Стек пустой!\")\n",
    "        remove = self.tail\n",
    "        if self.size > 1:\n",
    "            self.tail = remove.right\n",
    "        self.size -= 1\n",
    "        return remove.value\n",
    "    \n",
    "    def pop(self):       #удаляет и возвращает элемент с правой стороны двусторонней очереди\n",
    "        if self.is_empty():\n",
    "            return println(\"Стек пустой!\")\n",
    "        remove = self.head\n",
    "        if self.size > 1:\n",
    "            self.head = remove.left\n",
    "        self.size -= 1\n",
    "        return remove.value\n",
    "    \n",
    "    def peek(self):      #возвращает элемент начала, не удаляя его\n",
    "        if self.is_empty():\n",
    "            return println(\"Стек пустой!\")\n",
    "        return self.head.value\n",
    "    \n",
    "    def peek_left(self):  #возвращает элемент начала, не удаляя его\n",
    "        if self.is_empty():\n",
    "            return println(\"Стек пустой!\")\n",
    "        return self.tail.value\n",
    "\n",
    "    def __len__(self):          #возвращает количество элементов в двухсторонней очереди\n",
    "        return self.size"
   ]
  },
  {
   "cell_type": "markdown",
   "id": "5d7edb08",
   "metadata": {
    "scrolled": true
   },
   "source": [
    "### Задание №1\n"
   ]
  },
  {
   "cell_type": "code",
   "execution_count": 32,
   "id": "17702ade",
   "metadata": {},
   "outputs": [
    {
     "name": "stdout",
     "output_type": "stream",
     "text": [
      "Чарли и шоколадная фабрика\n",
      "Унесённые ветром\n",
      "\n",
      "Уловка-22\n",
      "\n",
      "Убить пересмешника\n",
      "\n",
      "Тёмные начала\n",
      "\n",
      "Тэсс из рода д’Эрбервиллей\n",
      "\n",
      "Столпы Земли\n",
      "\n",
      "Сто лет одиночества\n",
      "\n",
      "Ребекка\n",
      "\n",
      "Поющие в терновнике\n",
      "\n",
      "Пение птиц\n",
      "\n",
      "Над пропастью во ржи\n",
      "\n",
      "Молитва об Оуэне Мини\n",
      "\n",
      "Миддлмарч\n",
      "\n",
      "Мандолина капитана Корелли\n",
      "\n",
      "Маленькие женщины\n",
      "\n",
      "Лев, колдунья и платяной шкаф\n",
      "\n",
      "Дэвид Копперфильд\n",
      "\n",
      "Дневник Трейси Бикер\n",
      "\n",
      "Джейн Эйр\n",
      "\n",
      "Грозовой перевал\n",
      "\n",
      "Гроздья гнева\n",
      "\n",
      "Гордость и предубеждение\n",
      "\n",
      "Гарри Поттер и философский камень\n",
      "\n",
      "Гарри Поттер и узник Азкабана\n",
      "\n",
      "Гарри Поттер и Тайная комната\n",
      "\n",
      "Гарри Поттер и Кубок огня\n",
      "\n",
      "Война и мир\n",
      "\n",
      "Властелин колец\n",
      "\n",
      "Винни Пух\n",
      "\n",
      "Ветер в ивах\n",
      "\n",
      "Большие надежды\n",
      "\n",
      "Алиса в Стране чудес\n",
      "\n",
      "Автостопом по галактике\n",
      "\n",
      "1984\n",
      "\n"
     ]
    }
   ],
   "source": [
    "with open('bookstask.txt','r') as books:\n",
    "    books=open('bookstask.txt','r',encoding=\"utf8\")\n",
    "    q1 = Deque()\n",
    "    q2 = Deque()\n",
    "    for book in books:\n",
    "        q1.push(book)\n",
    "    while not q1.is_empty():\n",
    "        x = q1.pop()\n",
    "        while not q2.is_empty() and q2.peek() > x:\n",
    "            q1.push_left(q2.pop())\n",
    "        q2.push(x)\n",
    "    while not q2.is_empty():\n",
    "        print(q2.pop())"
   ]
  },
  {
   "cell_type": "markdown",
   "id": "49fbd2a0",
   "metadata": {},
   "source": [
    "### Задание №2\n"
   ]
  },
  {
   "cell_type": "code",
   "execution_count": 33,
   "id": "81cab7a8",
   "metadata": {},
   "outputs": [
    {
     "name": "stdout",
     "output_type": "stream",
     "text": [
      "дежъняшупющохсэзбчйёргьвфктлыамци\n"
     ]
    }
   ],
   "source": [
    "import random\n",
    "alphabet = list('абвгдеёжзийклмнопрстуфхцчшщъыьэюя')\n",
    "random.shuffle(alphabet)    #Перемешивает изменяемую последовательность случайным образом\n",
    "alphabet = ''.join(alphabet) #join для того, чтобы конвертировать список букв алфавита (без разделений) в строку для сохранения\n",
    "print(alphabet)\n",
    "key = Deque()\n",
    "for letter in alphabet:\n",
    "    key.push(letter)"
   ]
  },
  {
   "cell_type": "code",
   "execution_count": 34,
   "id": "c64ac064",
   "metadata": {},
   "outputs": [],
   "source": [
    "#кодировка\n",
    "def encode(c):\n",
    "    for i in range(len(key)):\n",
    "        x = key.pop_left()\n",
    "        if x == c:\n",
    "            key.push(x)\n",
    "            val = key.pop_left()\n",
    "            key.push(val)\n",
    "            return val\n",
    "        key.push(x)\n",
    "#декодировка\n",
    "def decode(c):\n",
    "    for i in range(len(key)):\n",
    "        x = key.pop()\n",
    "        if x == c:\n",
    "            key.push_left(x)\n",
    "            val = key.pop()\n",
    "            key.push_left(val)\n",
    "            return val\n",
    "        key.push_left(x)"
   ]
  },
  {
   "cell_type": "code",
   "execution_count": 35,
   "id": "19a81358",
   "metadata": {},
   "outputs": [
    {
     "name": "stdout",
     "output_type": "stream",
     "text": [
      "ехчгаё фжйжг, фэжьх схгхужьх.\n",
      "добрый вечер, всего хорошего.\n"
     ]
    }
   ],
   "source": [
    "text = 'добрый вечер, всего хорошего.'.lower()\n",
    "\n",
    "encoded = ''\n",
    "for letter in text:\n",
    "    if encoded_letter := encode(letter):\n",
    "        encoded += encoded_letter\n",
    "    else:\n",
    "        encoded += letter\n",
    "\n",
    "print(encoded)\n",
    "\n",
    "decoded = ''\n",
    "for letter in encoded:\n",
    "    if decoded_letter := decode(letter):\n",
    "        decoded += decoded_letter\n",
    "    else:\n",
    "        decoded += letter\n",
    "print(decoded)"
   ]
  },
  {
   "cell_type": "markdown",
   "id": "c0894f47",
   "metadata": {},
   "source": [
    "### Задание №3\n"
   ]
  },
  {
   "cell_type": "code",
   "execution_count": 37,
   "id": "9e91a9d4",
   "metadata": {},
   "outputs": [
    {
     "name": "stdout",
     "output_type": "stream",
     "text": [
      "1\n",
      "2\n",
      "3\n",
      "4\n"
     ]
    }
   ],
   "source": [
    "A = Stack()\n",
    "B = Stack()\n",
    "C = Stack()\n",
    "\n",
    "disks = 4\n",
    "\n",
    "for i in range(disks, 0, -1):\n",
    "    A.push(i)\n",
    "\n",
    "def move(a, b):\n",
    "    if len(a) == 0 and len(b) > 0:\n",
    "        a.push(b.pop())\n",
    "    elif len(a) > 0 and len(b) == 0:\n",
    "        b.push(a.pop())\n",
    "    elif a.peek() > b.peek():\n",
    "        a.push(b.pop())\n",
    "    else:\n",
    "        b.push(a.pop())\n",
    "\n",
    "if disks % 2 == 0:\n",
    "    while len(C) != disks:\n",
    "        move(A, B)\n",
    "        move(A, C)\n",
    "        move(B, C)\n",
    "else:\n",
    "    while len(C) != disks:\n",
    "        move(A, C)\n",
    "        move(A, B)\n",
    "        move(B, C)\n",
    "\n",
    "while not C.is_empty():\n",
    "    print(C.pop())"
   ]
  },
  {
   "cell_type": "markdown",
   "id": "e5b0be17",
   "metadata": {},
   "source": [
    "### Задание №4\n"
   ]
  },
  {
   "cell_type": "code",
   "execution_count": 39,
   "id": "5b1df60a",
   "metadata": {},
   "outputs": [
    {
     "name": "stdout",
     "output_type": "stream",
     "text": [
      "True\n",
      "True\n"
     ]
    }
   ],
   "source": [
    "def check_brackets(string):\n",
    "    bracket_stack = Stack()\n",
    "    for i in string:\n",
    "        if i == '(':\n",
    "            bracket_stack.push(i)\n",
    "        elif i == ')':\n",
    "            if bracket_stack.is_empty():\n",
    "                return False\n",
    "            bracket_stack.pop()\n",
    "    return bracket_stack.is_empty()\n",
    "\n",
    "print(check_brackets('(())()()'))\n",
    "print(check_brackets('(((()())()()()()))'))"
   ]
  },
  {
   "cell_type": "markdown",
   "id": "c44cdd6b",
   "metadata": {},
   "source": [
    "### Задание №5\n"
   ]
  },
  {
   "cell_type": "code",
   "execution_count": 41,
   "id": "36b8f400",
   "metadata": {},
   "outputs": [
    {
     "name": "stdout",
     "output_type": "stream",
     "text": [
      "False\n",
      "False\n"
     ]
    }
   ],
   "source": [
    "def check_square_brackets(string):\n",
    "    bracket_stack = Deque()\n",
    "    for i in string:\n",
    "        if i == '[':\n",
    "            bracket_stack.push(i)\n",
    "        elif i == ']':\n",
    "            if bracket_stack.is_empty():\n",
    "                return False\n",
    "            bracket_stack.pop()\n",
    "    return bracket_stack.is_empty()\n",
    "print(check_square_brackets('[[[]]'))\n",
    "print(check_square_brackets('[[][][]'))"
   ]
  },
  {
   "cell_type": "markdown",
   "id": "59d13dc7",
   "metadata": {},
   "source": [
    "### Задание №6\n"
   ]
  },
  {
   "cell_type": "code",
   "execution_count": 42,
   "id": "297e36c2",
   "metadata": {},
   "outputs": [
    {
     "name": "stdout",
     "output_type": "stream",
     "text": [
      "1\n",
      "23345Добрыйвечерспасимюо     !!!\n"
     ]
    }
   ],
   "source": [
    "text = 'Добрый вечер 123  345 спасимюо!!!'\n",
    "letters = Stack()\n",
    "digits = Stack()\n",
    "others = Stack()\n",
    "for c in text:\n",
    "    if c.isalpha():\n",
    "        letters.push(c)\n",
    "    elif c.isdigit():\n",
    "        digits.push(c)\n",
    "    else:\n",
    "        others.push(c)\n",
    "new_text = ''\n",
    "letters.reverse()\n",
    "digits.reverse()\n",
    "others.reverse()\n",
    "print(digits.pop())\n",
    "while not digits.is_empty():\n",
    "    new_text += digits.pop()\n",
    "while not letters.is_empty():\n",
    "    new_text += letters.pop()\n",
    "while not others.is_empty():\n",
    "    new_text += others.pop()\n",
    "print(new_text)"
   ]
  },
  {
   "cell_type": "markdown",
   "id": "973f68bd",
   "metadata": {},
   "source": [
    "### Задание №7\n"
   ]
  },
  {
   "cell_type": "code",
   "execution_count": 44,
   "id": "c56fad66",
   "metadata": {},
   "outputs": [
    {
     "name": "stdout",
     "output_type": "stream",
     "text": [
      "[-26, -33, 36, -38, -8, 24, 25, 12, 12, -6]\n",
      "-26\n",
      "-33\n",
      "-38\n",
      "-8\n",
      "-6\n",
      "36\n",
      "24\n",
      "25\n",
      "12\n",
      "12\n"
     ]
    }
   ],
   "source": [
    "numbers = [random.randint(-50, 50) for i in range(10)]\n",
    "print(numbers)\n",
    "deque = Deque()\n",
    "for n in numbers:\n",
    "    if n < 0:\n",
    "        deque.push_left(n)\n",
    "    else:\n",
    "        deque.push(n)\n",
    "while not deque.is_empty():\n",
    "    x = deque.pop_left()\n",
    "    if x < 0:\n",
    "        deque.push(x)\n",
    "    else:\n",
    "        deque.push_left(x)\n",
    "        break\n",
    "while not deque.is_empty():\n",
    "    x = deque.pop()\n",
    "    if x < 0:\n",
    "        print(x)\n",
    "    else:\n",
    "        deque.push(x)\n",
    "        break\n",
    "while not deque.is_empty():\n",
    "    print(deque.pop_left())"
   ]
  },
  {
   "cell_type": "markdown",
   "id": "b9228191",
   "metadata": {},
   "source": [
    "### Задание №8\n"
   ]
  },
  {
   "cell_type": "code",
   "execution_count": 45,
   "id": "981fbdfe",
   "metadata": {
    "scrolled": true
   },
   "outputs": [
    {
     "name": "stdout",
     "output_type": "stream",
     "text": [
      "Властелин колец\n",
      "Гордость и предубеждение\n",
      "Тёмные начала\n",
      "Автостопом по галактике\n",
      "Гарри Поттер и Кубок огня\n",
      "Убить пересмешника\n",
      "Винни Пух\n",
      "1984\n",
      "Лев, колдунья и платяной шкаф\n",
      "Джейн Эйр\n",
      "Уловка-22\n",
      "Грозовой перевал\n",
      "Пение птиц\n",
      "Ребекка\n",
      "Над пропастью во ржи\n",
      "Ветер в ивах\n",
      "Большие надежды\n",
      "Маленькие женщины\n",
      "Мандолина капитана Корелли\n",
      "Война и мир\n",
      "Унесённые ветром\n",
      "Гарри Поттер и философский камень\n",
      "Гарри Поттер и Тайная комната\n",
      "Гарри Поттер и узник Азкабана\n",
      "Поющие в терновнике\n",
      "Тэсс из рода д’Эрбервиллей\n",
      "Миддлмарч\n",
      "Гроздья гнева\n",
      "Алиса в Стране чудес\n",
      "Дневник Трейси Бикер\n",
      "Сто лет одиночества\n",
      "Столпы Земли\n",
      "Дэвид Копперфильд\n",
      "Молитва об Оуэне Мини\n",
      "Чарли и шоколадная фабрика\n",
      "\n",
      "Чарли и шоколадная фабрика\n",
      "Молитва об Оуэне Мини\n",
      "Дэвид Копперфильд\n",
      "Столпы Земли\n",
      "Сто лет одиночества\n",
      "Дневник Трейси Бикер\n",
      "Алиса в Стране чудес\n",
      "Гроздья гнева\n",
      "Миддлмарч\n",
      "Тэсс из рода д’Эрбервиллей\n",
      "Поющие в терновнике\n",
      "Гарри Поттер и узник Азкабана\n",
      "Гарри Поттер и Тайная комната\n",
      "Гарри Поттер и философский камень\n",
      "Унесённые ветром\n",
      "Война и мир\n",
      "Мандолина капитана Корелли\n",
      "Маленькие женщины\n",
      "Большие надежды\n",
      "Ветер в ивах\n",
      "Над пропастью во ржи\n",
      "Ребекка\n",
      "Пение птиц\n",
      "Грозовой перевал\n",
      "Уловка-22\n",
      "Джейн Эйр\n",
      "Лев, колдунья и платяной шкаф\n",
      "1984\n",
      "Винни Пух\n",
      "Убить пересмешника\n",
      "Гарри Поттер и Кубок огня\n",
      "Автостопом по галактике\n",
      "Тёмные начала\n",
      "Гордость и предубеждение\n",
      "Властелин колец\n"
     ]
    }
   ],
   "source": [
    "with open('bookstask.txt', 'r') as books:\n",
    "    books=open('bookstask.txt','r', encoding='utf8')\n",
    "    stack = Stack()\n",
    "    for book in books:\n",
    "        book = book.strip()\n",
    "        print(book)\n",
    "        stack.push(book)\n",
    "    print()\n",
    "    while not stack.is_empty():\n",
    "        print(stack.pop())"
   ]
  },
  {
   "cell_type": "markdown",
   "id": "rental-jerusalem",
   "metadata": {},
   "source": [
    "### Вывод\n"
   ]
  },
  {
   "cell_type": "markdown",
   "id": "0c2b8899",
   "metadata": {},
   "source": [
    "В ходе лабораторной работы были реализовываны такие структуры данных как стек и дек, выполнены различные действия с ними и выполнены также 8 заданий на проработку алгоритмов различных действий с данными структурами данных."
   ]
  }
 ],
 "metadata": {
  "kernelspec": {
   "display_name": "Python 3 (ipykernel)",
   "language": "python",
   "name": "python3"
  },
  "language_info": {
   "codemirror_mode": {
    "name": "ipython",
    "version": 3
   },
   "file_extension": ".py",
   "mimetype": "text/x-python",
   "name": "python",
   "nbconvert_exporter": "python",
   "pygments_lexer": "ipython3",
   "version": "3.9.7"
  }
 },
 "nbformat": 4,
 "nbformat_minor": 5
}
