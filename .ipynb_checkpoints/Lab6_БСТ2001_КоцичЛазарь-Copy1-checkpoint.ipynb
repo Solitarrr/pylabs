{
 "cells": [
  {
   "cell_type": "markdown",
   "metadata": {
    "id": "0z3KlfKDn4_K"
   },
   "source": [
    "# Лабораторная работа 6. \n",
    "# Сетевые алгоритмы. Динамические алгоритмы поиска путей.\n"
   ]
  },
  {
   "cell_type": "markdown",
   "metadata": {
    "id": "96Gi_LEvmSVH"
   },
   "source": [
    "## Выполнил студент группы БСТ2001 Коцич Лазарь\n",
    "***"
   ]
  },
  {
   "cell_type": "markdown",
   "metadata": {
    "id": "GjdIp8aToKIe"
   },
   "source": [
    "### Задание\n",
    "\n",
    "1.  Реализовать алгоритм поиска кратчайшего расстояния между двумя вершинами ориентированного взвешенного графа в соответствии с вариантом. \n",
    "\n",
    "2.  Предусмотреть задание графа в виде матрицы смежности/инцидентности, читаемой из файла, либо графически с помощью пользовательского интерфейса. \n",
    "\n",
    "3.  Разработать графический интерфейс пользователя с визуализацией графа и отображением кратчайшего расстояния между задаваемыми пользователем вершинами.\n",
    "\n",
    "4. По результатам работы проанализировать временную сложность работы заданного алгоритма в зависимости от числа узлов и ребер графа.\n",
    "Данные представить в виде таблицы.\n",
    "\n"
   ]
  },
  {
   "cell_type": "markdown",
   "metadata": {
    "id": "LhhUXrAmotIA"
   },
   "source": [
    "### Варианты заданий:\n",
    "\n",
    "Вариант | Задание\n",
    ":-------- |:-----\n",
    "1, 7, 13, 19, 25 | Алгоритм Флойда-Уоршелла\n",
    "2, 8, 14, 20, 26 | Алгоритм Дейкстры\n",
    "3, 9,15,21,27 | Алгоритм Беллмана-Форда\n",
    "4, 10, 16, 22, 28 | Алгоритм Джонсона\n",
    "5, 11, 17, 23, 29| Алгоритм Левита\n",
    "6, 12, 18, 24, 30 | Алгоритм Йена\n",
    "\n"
   ]
  },
  {
   "cell_type": "markdown",
   "metadata": {
    "id": "Wggfn8l7nG72"
   },
   "source": [
    "### Выполнение:"
   ]
  },
  {
   "cell_type": "code",
   "execution_count": 1,
   "metadata": {
    "scrolled": true
   },
   "outputs": [
    {
     "name": "stdout",
     "output_type": "stream",
     "text": [
      "Requirement already satisfied: networkx in c:\\users\\snill\\anaconda3\\lib\\site-packages (2.6.3)\n",
      "Requirement already satisfied: algorithmx in c:\\users\\snill\\anaconda3\\lib\\site-packages (2.0.3)\n"
     ]
    }
   ],
   "source": [
    "!pip install networkx algorithmx"
   ]
  },
  {
   "cell_type": "code",
   "execution_count": 2,
   "metadata": {},
   "outputs": [],
   "source": [
    "import networkx as nx\n",
    "import algorithmx\n",
    "import json\n",
    "import time"
   ]
  },
  {
   "cell_type": "code",
   "execution_count": 3,
   "metadata": {},
   "outputs": [
    {
     "name": "stdout",
     "output_type": "stream",
     "text": [
      "[(0, 1), (0, 2), (1, 2), (1, 4), (1, 5), (2, 3), (3, 4), (3, 6), (4, 5), (4, 6), (5, 6)]\n"
     ]
    }
   ],
   "source": [
    "# Создание графа\n",
    "G = nx.DiGraph()\n",
    "\n",
    "# Импорт данных из файла .json и распаковка данных\n",
    "with open('G.json', 'r') as file:\n",
    "    data = json.load(file)\n",
    "    for row in data:\n",
    "        G.add_weighted_edges_from([(row[0], row[1], row[2])])\n",
    "\n",
    "print(G.edges)"
   ]
  },
  {
   "cell_type": "code",
   "execution_count": 4,
   "metadata": {},
   "outputs": [
    {
     "data": {
      "application/vnd.jupyter.widget-view+json": {
       "model_id": "5dccca46406b442588505133315f3a60",
       "version_major": 2,
       "version_minor": 0
      },
      "text/plain": [
       "JupyterWidget(events=['{\"attrs\": {\"size\": [900, 500]}}', '{\"attrs\": {\"edgelength\": 120}}', '{\"attrs\": {\"nodes\"…"
      ]
     },
     "metadata": {},
     "output_type": "display_data"
    }
   ],
   "source": [
    "# Здесь происходит визуализация графа\n",
    "canvas = algorithmx.jupyter_canvas()\n",
    "canvas.size((900,500))\n",
    "canvas.edgelength(120)\n",
    "\n",
    "canvas.nodes(range(len(G.nodes))).add()\n",
    "canvas.edges(G.edges).add().directed(True).label().text(lambda e: G.edges[e]['weight'])\n",
    "\n",
    "canvas"
   ]
  },
  {
   "cell_type": "code",
   "execution_count": 5,
   "metadata": {},
   "outputs": [
    {
     "name": "stdout",
     "output_type": "stream",
     "text": [
      "Distances: [0, 8, 5, 10, 18, 26, 29]\n",
      "Predecessors: [None, 0, 0, 2, 3, 4, 4]\n",
      "0.0010187625885009766 sec.\n"
     ]
    }
   ],
   "source": [
    "# Выбер исходной вершину\n",
    "start_time = time.time()\n",
    "source = 0\n",
    "\n",
    "\"\"\"\"Алгоритм Беллмана-Форда - Возвращает кратчайший путь от исходной вершины ко всем остальным вершинам\"\"\"\n",
    "\n",
    "# Первый шаг\n",
    "edges = list(G.edges(data=True))\n",
    "dist = [0 if node == source else float(\"INF\") for index, node in enumerate(G.nodes)]\n",
    "pred = [None for node in enumerate(G.nodes)]\n",
    "\n",
    "# Второй шаг\n",
    "for i in range(len(G.nodes) - 1):\n",
    "    updated = False\n",
    "    \n",
    "    for index, edge in enumerate(G.edges):\n",
    "        u = edges[index][0]\n",
    "        v = edges[index][1]\n",
    "        weight = edges[index][2]['weight']\n",
    "        \n",
    "        if dist[u] is not float(\"INF\") and dist[u] + weight < dist[v]:\n",
    "            dist[v] = dist[u] + weight\n",
    "            pred[v] = u\n",
    "            is_updated = True\n",
    "    \n",
    "    if not updated:\n",
    "        break\n",
    "\n",
    "# Третий шаг\n",
    "for index, edge in enumerate(G.edges):\n",
    "    u = edges[index][0]\n",
    "    v = edges[index][1]\n",
    "    weight = edges[index][2]['weight']\n",
    "    \n",
    "    if dist[u] is not float(\"INF\") and dist[u] + weight < dist[v]:\n",
    "        raise Exception(\"Negative-weight cycle\")\n",
    "\n",
    "print(f\"Distances: {dist}\")\n",
    "print(f\"Predecessors: {pred}\")\n",
    "print(f\"{time.time() - start_time} sec.\")"
   ]
  },
  {
   "cell_type": "code",
   "execution_count": null,
   "metadata": {},
   "outputs": [],
   "source": []
  }
 ],
 "metadata": {
  "colab": {
   "name": "Lab6.ipynb",
   "provenance": []
  },
  "kernelspec": {
   "display_name": "Python 3 (ipykernel)",
   "language": "python",
   "name": "python3"
  },
  "language_info": {
   "codemirror_mode": {
    "name": "ipython",
    "version": 3
   },
   "file_extension": ".py",
   "mimetype": "text/x-python",
   "name": "python",
   "nbconvert_exporter": "python",
   "pygments_lexer": "ipython3",
   "version": "3.9.7"
  }
 },
 "nbformat": 4,
 "nbformat_minor": 1
}
