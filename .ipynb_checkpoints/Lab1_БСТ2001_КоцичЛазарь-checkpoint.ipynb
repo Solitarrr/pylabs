{
 "cells": [
  {
   "cell_type": "markdown",
   "id": "76f55597",
   "metadata": {},
   "source": [
    "# Лабораторная работа №1\n",
    "## Выполнил студент группы БСТ2001 Коцич Лазарь\n",
    "### Задание №1\n",
    "Начало работы с Jupyter Notebook, вывод \"Hello, World!\""
   ]
  },
  {
   "cell_type": "code",
   "execution_count": 22,
   "id": "c7591add",
   "metadata": {},
   "outputs": [
    {
     "name": "stdout",
     "output_type": "stream",
     "text": [
      "Hello, World!\n"
     ]
    }
   ],
   "source": [
    "print(\"Hello, World!\")"
   ]
  },
  {
   "cell_type": "markdown",
   "id": "7aca1bf9",
   "metadata": {},
   "source": [
    "### Задание №2\n",
    "Написать генератор случайных матриц(многомерных), который принимает опциональные параметры m, n, min_limit, max_limit, где m и n указывают размер\n",
    "матрицы, а min_lim и max_lim - минимальное и максимальное значение для\n",
    "генерируемого числа. По умолчанию при отсутствии параметров принимать следующие значения:\n",
    "m = 50\n",
    "n = 50\n",
    "min_limit = -250\n",
    "max_limit = 1000 + (номер своего варианта)"
   ]
  },
  {
   "cell_type": "code",
   "execution_count": 23,
   "id": "d5f5383e",
   "metadata": {},
   "outputs": [],
   "source": [
    "import random"
   ]
  },
  {
   "cell_type": "code",
   "execution_count": 24,
   "id": "c85c0a92",
   "metadata": {
    "scrolled": false
   },
   "outputs": [
    {
     "name": "stdout",
     "output_type": "stream",
     "text": [
      "Введите кол-во строк: 5\n",
      "Введите кол-во столбцов: 5\n",
      "Введите минимальное значение генерируемого числа: -10\n",
      "Введите максимальное значение генерируемого числа: 10\n",
      "[0, 7, 5, -2, 9]\n",
      "[9, -4, 8, 5, -6]\n",
      "[3, 3, -2, 6, 3]\n",
      "[0, 4, -10, -1, 1]\n",
      "[5, 6, 4, -1, 8]\n"
     ]
    }
   ],
   "source": [
    "n = int(input(\"Введите кол-во строк: \", ) or \"50\")\n",
    "m = int(input(\"Введите кол-во столбцов: \", ) or \"50\")\n",
    "min_limit = int(input(\"Введите минимальное значение генерируемого числа: \", ) or \"-250\")\n",
    "max_limit = int(input(\"Введите максимальное значение генерируемого числа: \", ) or \"1009\")\n",
    "if min_limit >= max_limit:\n",
    "    print(\"Минимальное не может быть больше максимального. Были взяты значения по умолчанию!\")\n",
    "    min_limit = -250\n",
    "    max_limit = 1009\n",
    "Matrix = [ [ random.randint(min_limit, max_limit) for j in range(m)] for i in range(n) ]\n",
    "for numeric in range(n):\n",
    "    print(Matrix[numeric])"
   ]
  },
  {
   "cell_type": "markdown",
   "id": "34636b24",
   "metadata": {},
   "source": [
    "### Задание №3\n",
    "Реализовать методы сортировки строк числовой матрицы в соответствии с\n",
    "заданием. Оценить время работы каждого алгоритма сортировки и сравнить его со\n",
    "временем стандартной функции сортировки. Испытания проводить на сгенерированных\n",
    "матрицах.\n",
    "Методы:\n",
    "\n",
    "<table>\n",
    "<thead>\n",
    "<tr><th>Методы:</th>\n",
    "</thead>\n",
    "<tbody>\n",
    "<tr><td>Выбором</td><td>Вставкой</td><td>Обменом</td><td>Шелла</td><td>Турнирная</td><td>Быстрая сортировка</td><td>Пирамидальная</td></tr>\n",
    "</tbody>\n",
    "</table>"
   ]
  },
  {
   "cell_type": "markdown",
   "id": "5386308d",
   "metadata": {},
   "source": [
    "# Сортировка выбором"
   ]
  },
  {
   "cell_type": "code",
   "execution_count": 26,
   "id": "89720098",
   "metadata": {
    "scrolled": true
   },
   "outputs": [
    {
     "name": "stdout",
     "output_type": "stream",
     "text": [
      "[-2, 0, 5, 7, 9]\n",
      "[-6, -4, 5, 8, 9]\n",
      "[-2, 3, 3, 3, 6]\n",
      "[-10, -1, 0, 1, 4]\n",
      "[-1, 4, 5, 6, 8]\n",
      "0.9703636169433594 - затраченное время в миллисекундах\n"
     ]
    }
   ],
   "source": [
    "import time\n",
    "selsort_start_time = time.time()\n",
    "def sel_sort(Matrix):\n",
    "    arr=Matrix.copy()\n",
    "    for i in range(len(arr)-1):\n",
    "        m = i\n",
    "        j = i + 1\n",
    "        while j < len(arr):\n",
    "            if arr[j] < arr[m]:\n",
    "                m = j\n",
    "            j = j + 1\n",
    "        arr[i], arr[m] = arr[m], arr[i]\n",
    "    return(arr)\n",
    "for numeric in range(n):\n",
    "    print(sel_sort(Matrix[numeric]))\n",
    "\n",
    "print(f\"{(time.time() - selsort_start_time)*1000} - затраченное время в миллисекундах\")"
   ]
  },
  {
   "cell_type": "markdown",
   "id": "09082c0b",
   "metadata": {},
   "source": [
    "# Сортировка вставкой"
   ]
  },
  {
   "cell_type": "code",
   "execution_count": 27,
   "id": "2f5f79a5",
   "metadata": {},
   "outputs": [
    {
     "name": "stdout",
     "output_type": "stream",
     "text": [
      "[-2, 0, 5, 7, 9]\n",
      "[-6, -4, 5, 8, 9]\n",
      "[-2, 3, 3, 3, 6]\n",
      "[-10, -1, 0, 1, 4]\n",
      "[-1, 4, 5, 6, 8]\n",
      "0.9701251983642578 - затраченное время в миллисекундах\n"
     ]
    }
   ],
   "source": [
    "insertsort_start_time = time.time()\n",
    "def insert_sort(Matrix):\n",
    "    arr=Matrix.copy()\n",
    "    for i in range(1, len(arr)):\n",
    "        numericinsert = arr[i]\n",
    "        j = i - 1\n",
    "        while j >= 0 and numericinsert < arr[j]:\n",
    "            arr[j+1] = arr[j]\n",
    "            j -= 1\n",
    "        arr[j+1] = numericinsert\n",
    "    return(arr)\n",
    "for numeric in range(n):\n",
    "    print(insert_sort(Matrix[numeric]))\n",
    "\n",
    "print(f\"{(time.time() - insertsort_start_time)*1000} - затраченное время в миллисекундах\")"
   ]
  },
  {
   "cell_type": "markdown",
   "id": "dff77c1a",
   "metadata": {},
   "source": [
    "# Сортировка обменом"
   ]
  },
  {
   "cell_type": "code",
   "execution_count": 30,
   "id": "b4410c60",
   "metadata": {},
   "outputs": [
    {
     "name": "stdout",
     "output_type": "stream",
     "text": [
      "[-2, 0, 5, 7, 9]\n",
      "[-6, -4, 5, 8, 9]\n",
      "[-2, 3, 3, 3, 6]\n",
      "[-10, -1, 0, 1, 4]\n",
      "[-1, 4, 5, 6, 8]\n",
      "0.9694099426269531 - затраченное время в миллисекундах\n"
     ]
    }
   ],
   "source": [
    "exchangesort_start_time = time.time()\n",
    "def exchange_sort(Matrix):\n",
    "    arr=Matrix.copy()\n",
    "    for i in range(len(arr)):\n",
    "        for j in range(len(arr)-i-1):\n",
    "            if arr[j] > arr[j+1]:\n",
    "                arr[j], arr[j+1] = arr[j+1], arr[j]\n",
    "    return(arr)\n",
    "for numeric in range(n):\n",
    "    print(exchange_sort(Matrix[numeric]))\n",
    "    \n",
    "print(f\"{(time.time() - exchangesort_start_time)*1000} - затраченное время в миллисекундах\")"
   ]
  },
  {
   "cell_type": "markdown",
   "id": "b44e68eb",
   "metadata": {},
   "source": [
    "# Сортировка Шелла"
   ]
  },
  {
   "cell_type": "code",
   "execution_count": 31,
   "id": "8ac06f8d",
   "metadata": {},
   "outputs": [
    {
     "name": "stdout",
     "output_type": "stream",
     "text": [
      "[-2, 0, 5, 7, 9]\n",
      "[-6, -4, 5, 8, 9]\n",
      "[-2, 3, 3, 3, 6]\n",
      "[-10, -1, 0, 1, 4]\n",
      "[-1, 4, 5, 6, 8]\n",
      "0.9984970092773438 - затраченное время в миллисекундах\n"
     ]
    }
   ],
   "source": [
    "shellsort_start_time = time.time()\n",
    "\n",
    "def shell_sort(Matrix):\n",
    "    arr=Matrix.copy()\n",
    "    for i in range(len(arr)):\n",
    "        for j in range(len(arr)-i-1):\n",
    "            if arr[j] > arr[j+1]:\n",
    "                arr[j], arr[j+1] = arr[j+1], arr[j]\n",
    "    return(arr)\n",
    "for numeric in range(n):\n",
    "    print(shell_sort(Matrix[numeric]))\n",
    "    \n",
    "print(f\"{(time.time() - shellsort_start_time)*1000} - затраченное время в миллисекундах\")"
   ]
  },
  {
   "cell_type": "markdown",
   "id": "5a3304de",
   "metadata": {},
   "source": [
    "# Турнирная сортировка"
   ]
  },
  {
   "cell_type": "code",
   "execution_count": 32,
   "id": "ed99473a",
   "metadata": {},
   "outputs": [
    {
     "name": "stdout",
     "output_type": "stream",
     "text": [
      "[-2, 0, 5, 7, 9]\n",
      "[-6, -4, 5, 8, 9]\n",
      "[-2, 3, 3, 3, 6]\n",
      "[-10, -1, 0, 1, 4]\n",
      "[-1, 4, 5, 6, 8]\n",
      "1.0099411010742188 - затраченное время в миллисекундах\n"
     ]
    }
   ],
   "source": [
    "tournamentsort_start_time = time.time()\n",
    "\n",
    "def tournament_sort(Matrix):\n",
    "    arr = Matrix.copy()\n",
    "    tree = [None] * 2 * (len(arr) + len(arr) % 2)\n",
    "    index = len(tree) - len(arr) - len(arr) % 2\n",
    "    \n",
    "    for i, v in enumerate(arr):\n",
    "        tree[index + i] = (i, v)\n",
    "    \n",
    "    for j in range(len(arr)):\n",
    "        n = len(arr)\n",
    "        index = len(tree) - len(arr) - len(arr) % 2\n",
    "        while index > -1:\n",
    "            n = (n + 1) // 2\n",
    "            for i in range(n):\n",
    "                i = max(index + i * 2, 1) \n",
    "                if tree[i] != None and tree[i + 1] != None:\n",
    "                    if tree[i][1] < tree[i + 1][1]:\n",
    "                        tree[i // 2] = tree[i]\n",
    "                    else:\n",
    "                        tree[i // 2] = tree[i + 1]\n",
    "                else:\n",
    "                    tree[i // 2] = tree[i] if tree[i] != None else tree[i + 1]\n",
    "            index -= n\n",
    "\n",
    "        index, x = tree[0]\n",
    "        arr[j] = x\n",
    "        tree[len(tree) - len(arr) - len(arr) % 2 + index] = None\n",
    "    return(arr)\n",
    "for numeric in range(n):\n",
    "    print(tournament_sort(Matrix[numeric]))\n",
    "    \n",
    "print(f\"{(time.time() - tournamentsort_start_time)*1000} - затраченное время в миллисекундах\")"
   ]
  },
  {
   "cell_type": "markdown",
   "id": "52b77418",
   "metadata": {},
   "source": [
    "# Быстрая сортировка "
   ]
  },
  {
   "cell_type": "code",
   "execution_count": 33,
   "id": "0540d915",
   "metadata": {
    "scrolled": true
   },
   "outputs": [
    {
     "name": "stdout",
     "output_type": "stream",
     "text": [
      "[-2, 0, 5, 7, 9]\n",
      "[-6, -4, 5, 8, 9]\n",
      "[-2, 3, 3, 3, 6]\n",
      "[-10, -1, 0, 1, 4]\n",
      "[-1, 4, 5, 6, 8]\n",
      "0.9973049163818359 - затраченное время в миллисекундах\n"
     ]
    }
   ],
   "source": [
    "quicksort_start_time = time.time()\n",
    "\n",
    "def quick_sort(Matrix):\n",
    "    arr = Matrix.copy()\n",
    "    if len(arr) < 2:\n",
    "        return arr\n",
    "    l, s, h = [], [], []\n",
    "    pivot = arr[random.randint(0, len(arr) - 1)]\n",
    "    for point in arr:\n",
    "        if point < pivot:\n",
    "            l.append(point)\n",
    "        elif point == pivot:\n",
    "            s.append(point)\n",
    "        elif point > pivot:\n",
    "            h.append(point)\n",
    "    return quick_sort(l) + s + quick_sort(h)\n",
    "\n",
    "for numeric in range(n):\n",
    "    print(shell_sort(Matrix[numeric]))\n",
    "    \n",
    "print(f\"{(time.time() - quicksort_start_time)*1000} - затраченное время в миллисекундах\")"
   ]
  },
  {
   "cell_type": "markdown",
   "id": "65e7be41",
   "metadata": {},
   "source": [
    "# Пирамидальная сортировка"
   ]
  },
  {
   "cell_type": "code",
   "execution_count": 38,
   "id": "3d2aa03c",
   "metadata": {},
   "outputs": [
    {
     "name": "stdout",
     "output_type": "stream",
     "text": [
      "[-2, 0, 5, 7, 9]\n",
      "[-6, -4, 5, 8, 9]\n",
      "[-2, 3, 3, 3, 6]\n",
      "[-10, -1, 0, 1, 4]\n",
      "[-1, 4, 5, 6, 8]\n",
      "1.028299331665039 - затраченное время в миллисекундах\n"
     ]
    }
   ],
   "source": [
    "pyramidsort_start_time = time.time()\n",
    "\n",
    "def heapify(arr, heapSize, rootIndex):\n",
    "    largest = rootIndex\n",
    "    leftChild = (2 * rootIndex) + 1\n",
    "    rightChild = (2 * rootIndex) + 2\n",
    "    if leftChild < heapSize and arr[leftChild] > arr[largest]:\n",
    "        largest = leftChild\n",
    "    if rightChild < heapSize and arr[rightChild] > arr[largest]:\n",
    "        largest = rightChild\n",
    "    if largest != rootIndex:\n",
    "        arr[rootIndex], arr[largest] = arr[largest], arr[rootIndex]\n",
    "        \n",
    "def pyramid_sort(Matrix):\n",
    "    arr = Matrix.copy()\n",
    "    n = len(arr)\n",
    "    for i in range(n, -1, -1):\n",
    "        heapify(arr, n, i)\n",
    "    for i in range(n - 1, 0, -1):\n",
    "        arr[i], arr[0] = arr[0], arr[i]\n",
    "        heapify(arr, i, 0)\n",
    "    return(arr)\n",
    "\n",
    "for numeric in range(n):\n",
    "    print(pyramid_sort(Matrix[numeric]))\n",
    "    \n",
    "print(f\"{(time.time() - pyramidsort_start_time)*1000} - затраченное время в миллисекундах\")"
   ]
  },
  {
   "cell_type": "markdown",
   "id": "d3d84e9c",
   "metadata": {},
   "source": [
    "# Встроенная сортировка"
   ]
  },
  {
   "cell_type": "code",
   "execution_count": 41,
   "id": "8ac1498c",
   "metadata": {},
   "outputs": [
    {
     "name": "stdout",
     "output_type": "stream",
     "text": [
      "[-2, 0, 5, 7, 9]\n",
      "[-6, -4, 5, 8, 9]\n",
      "[-2, 3, 3, 3, 6]\n",
      "[-10, -1, 0, 1, 4]\n",
      "[-1, 4, 5, 6, 8]\n",
      "0.9710788726806641 - затраченное время в миллисекундах\n"
     ]
    }
   ],
   "source": [
    "integratedsort_start_time = time.time()\n",
    "\n",
    "def integrated_sort(Matrix):\n",
    "    arr = Matrix.copy()\n",
    "    arr.sort()\n",
    "    return(arr)\n",
    "    \n",
    "for numeric in range(n):\n",
    "    print(integrated_sort(Matrix[numeric]))\n",
    "    \n",
    "print(f\"{(time.time() - integratedsort_start_time)*1000} - затраченное время в миллисекундах\")"
   ]
  },
  {
   "cell_type": "markdown",
   "id": "72fbae9d",
   "metadata": {},
   "source": [
    "### Задание №4"
   ]
  },
  {
   "cell_type": "markdown",
   "id": "b4c92eda",
   "metadata": {},
   "source": [
    "Был создан публичный репозиторий на GitHub и запушено выполенное задание в .ipynb формате."
   ]
  }
 ],
 "metadata": {
  "kernelspec": {
   "display_name": "Python 3 (ipykernel)",
   "language": "python",
   "name": "python3"
  },
  "language_info": {
   "codemirror_mode": {
    "name": "ipython",
    "version": 3
   },
   "file_extension": ".py",
   "mimetype": "text/x-python",
   "name": "python",
   "nbconvert_exporter": "python",
   "pygments_lexer": "ipython3",
   "version": "3.9.7"
  }
 },
 "nbformat": 4,
 "nbformat_minor": 5
}
