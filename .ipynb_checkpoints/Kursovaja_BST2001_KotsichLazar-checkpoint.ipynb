{
 "cells": [
  {
   "cell_type": "markdown",
   "id": "933a2924",
   "metadata": {},
   "source": [
    "# Курсовая работа по СиАОД\n",
    "## Выполнил студент группы БСТ2001 Коцич Лазарь"
   ]
  },
  {
   "cell_type": "code",
   "execution_count": null,
   "id": "582a6c23",
   "metadata": {},
   "outputs": [],
   "source": []
  },
  {
   "cell_type": "markdown",
   "id": "45d868bf",
   "metadata": {},
   "source": [
    "### Задание 131А"
   ]
  },
  {
   "cell_type": "code",
   "execution_count": null,
   "id": "cc177f9d",
   "metadata": {},
   "outputs": [],
   "source": [
    "n=input();\n",
    "print([n,n.swapcase()][n[1:].upper()==n[1:]])"
   ]
  }
 ],
 "metadata": {
  "kernelspec": {
   "display_name": "Python 3 (ipykernel)",
   "language": "python",
   "name": "python3"
  },
  "language_info": {
   "codemirror_mode": {
    "name": "ipython",
    "version": 3
   },
   "file_extension": ".py",
   "mimetype": "text/x-python",
   "name": "python",
   "nbconvert_exporter": "python",
   "pygments_lexer": "ipython3",
   "version": "3.9.7"
  }
 },
 "nbformat": 4,
 "nbformat_minor": 5
}
