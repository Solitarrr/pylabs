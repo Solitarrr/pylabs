{
 "cells": [
  {
   "cell_type": "markdown",
   "metadata": {
    "id": "WPvB9TcMmKA6"
   },
   "source": [
    "# Лабораторная работа №5\n",
    "# Рекурсия. Фракталы."
   ]
  },
  {
   "cell_type": "markdown",
   "metadata": {
    "id": "96Gi_LEvmSVH"
   },
   "source": [
    "## Выполнил студент группы БСТ2001 Коцич Лазарь\n",
    "***"
   ]
  },
  {
   "cell_type": "markdown",
   "metadata": {
    "id": "4clYOyb0mbEv"
   },
   "source": [
    "### Задание:\n",
    "Реализовать генерацию заданного типа фрактала с применением рекурсивных функций.\n",
    "\n",
    "\n",
    "Добавить возможность задания глубины фрактала. \n",
    "\n",
    "\n",
    "Оценить глубину рекурсии. \n",
    "\n",
    "\n",
    "Построить таблицу зависимости времени построения от глубины фрактала."
   ]
  },
  {
   "cell_type": "markdown",
   "metadata": {
    "id": "wDXHbUmMmhRL"
   },
   "source": [
    "### Варианты заданий:\n",
    "\n",
    "Вариант | Задание\n",
    ":-------- |:-----\n",
    "1, 7, 13, 19, 25 | Кривая Коха\n",
    "2, 8, 14, 20, 26 | Кривая Гильберта\n",
    "3, 9,15,21,27 | Кривая Серпинского\n",
    "4, 10, 16, 22, 28 | Салфетка Серпинского\n",
    "5, 11, 17, 23, 29| Ковер Серпинского\n",
    "6, 12, 18, 24, 30 | Дерево Пифагора \n"
   ]
  },
  {
   "cell_type": "markdown",
   "metadata": {
    "id": "Wggfn8l7nG72"
   },
   "source": [
    "### Выполнение:"
   ]
  },
  {
   "cell_type": "code",
   "execution_count": 1,
   "metadata": {
    "id": "681a95mZnOSa"
   },
   "outputs": [],
   "source": [
    "import turtle                   # Подключаем модуль turtle\n",
    "from datetime import datetime as t  # Модуль позволяющий управлять датой и временем"
   ]
  },
  {
   "cell_type": "code",
   "execution_count": 2,
   "metadata": {},
   "outputs": [],
   "source": [
    "# Функция для отрисовки фракталов\n",
    "\n",
    "def drawing(size, angle, line):  \n",
    "    for sym in line:\n",
    "        if sym == \"F\":\n",
    "            turtle.forward(size) # Двигать черепаху вперед на указанный size\n",
    "        elif sym == \"+\":\n",
    "            turtle.right(angle)  # Повернуть черепаху направо на angle единиц, по умолчанию в градусах\n",
    "        elif sym == \"-\":\n",
    "            turtle.left(angle)   # Повернуть черепаху налево на angle единиц, по умолчанию в градусах"
   ]
  },
  {
   "cell_type": "code",
   "execution_count": 3,
   "metadata": {},
   "outputs": [
    {
     "name": "stdout",
     "output_type": "stream",
     "text": [
      "Глубина фрактала: 1\n",
      "Кривая Серпинского с глубиной =  0 | Время построения:  : 109020 ms\n",
      "Кривая Серпинского с глубиной =  1 | Время построения:  : 641116 ms\n"
     ]
    }
   ],
   "source": [
    "# Кривая Серпинского\n",
    "\n",
    "turtle.TurtleScreen._RUNNING=True\n",
    "\n",
    "n = int(input('Глубина фрактала: '))  # Здесь пользователь вводит глубину фрактала\n",
    "size = 5   # Размер\n",
    "angle = 90  # Угол равный пи на 2, то есть 90\n",
    "axiom = \"F-XF-F-XF\"  # Аксиома для кривой\n",
    "rules = {\"X\":\"XF+F-F+XF-F-XF+F-F+X\"}  # Правило кривой\n",
    "    \n",
    "def create_sierpinski(n, axiom):\n",
    "    if n == 0:\n",
    "        return axiom   # Если введенное число равно 0, то возвращается значение аксиомы\n",
    "    else:\n",
    "        res_str = \"\"\n",
    "        for i in axiom:\n",
    "            if i == \"+\":\n",
    "                res_str = res_str + \"+\"\n",
    "            elif i == \"-\":\n",
    "                res_str = res_str + \"-\"\n",
    "            elif i == \"F\":\n",
    "                res_str = res_str + \"F\"\n",
    "            else:\n",
    "                res_str = res_str + rules[i]\n",
    "        return create_sierpinski(n-1, res_str)    \n",
    "    \n",
    "for i in range(n+1):\n",
    "    turtle.reset()   # Сбросить черепаху на экране в исходное состояние\n",
    "    turtle.hideturtle()  # Сделать черепаху невидимой. На деле скрытие черепахи ускоряет рисование\n",
    "    turtle.color('red')  # Устанавливает цвет пера на красный\n",
    "    turtle.width(2)   # Установка толщины линии на width, то есть на 2\n",
    "    turtle.speed(0)   # Задает скорость черепахи. При 0 значение скорости является fastest\n",
    "\n",
    "    time1 = t.now() \n",
    "    res_line = create_sierpinski(i, axiom)\n",
    "    drawing(size, angle, res_line)\n",
    "    time2 = t.now()\n",
    "    \n",
    "    print(\"Кривая Серпинского с глубиной = \", i, \"|\", \"Время построения: \" , \":\", \"{0} ms\".format((time2 - time1).microseconds))\n",
    "\n",
    "turtle.exitonclick()   # Выход с помощью клика мышкой"
   ]
  }
 ],
 "metadata": {
  "colab": {
   "collapsed_sections": [],
   "name": "Lab5.ipynb",
   "provenance": []
  },
  "kernelspec": {
   "display_name": "Python 3 (ipykernel)",
   "language": "python",
   "name": "python3"
  },
  "language_info": {
   "codemirror_mode": {
    "name": "ipython",
    "version": 3
   },
   "file_extension": ".py",
   "mimetype": "text/x-python",
   "name": "python",
   "nbconvert_exporter": "python",
   "pygments_lexer": "ipython3",
   "version": "3.9.7"
  }
 },
 "nbformat": 4,
 "nbformat_minor": 1
}
